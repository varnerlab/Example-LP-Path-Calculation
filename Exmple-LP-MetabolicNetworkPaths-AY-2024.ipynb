{
 "cells": [
  {
   "cell_type": "markdown",
   "id": "2394540f-bc2e-4a65-946f-05ba9376d3a9",
   "metadata": {},
   "source": [
    "# Example: Using Linear Programming to Find Shortest Paths Through a Metabolic Network\n",
    "In this example, we'll use Linear Programming to compute the shortest paths in a metabolic network. This network connects a `source` compound, the starting point of our metabolic pathway, and a `target` compound, the endpoint. Computing these paths is crucial in metabolic engineering and related fields. To illustrate this, we'll use a simple metabolic network adapted from a [paper published by Palsson and coworkers](https://www.sciencedirect.com/science/article/pii/S0006349503748991?via%3Dihub).\n",
    "\n",
    "<!-- ![alt text](figs/ThreeGene-Network.png \"Title\") -->\n",
    "<center>\n",
    "    <img src=\"figs/Fig-ToyNetworkSchematic.svg\" width=\"480\" height=\"336\">\n",
    "</center>\n",
    "\n",
    "In this toy network, chemical transformations occur inside a physical or logical control volume, where each chemical species is a node in the graph above. Each edge in the graph corresponds to a chemical reaction or an exchange mechanism. \n",
    "* The chemical reaction system is assumed to be in a steady state inside the control volume. The chemical species (nodes) interact with one another through reactions (edges) labeled as `R` in the schematic above.\n",
    "* The control volume exchanges metabolites with the surroundings through logical or physical transfer mechanisms called exchanges, which are edges labeled as `E` in the schematic above."
   ]
  },
  {
   "cell_type": "markdown",
   "id": "9c0af0ac-9455-4feb-ab8e-04fb6ab9f16b",
   "metadata": {},
   "source": [
    "## Setup\n",
    "The computations in this lab (or example) are enabled by codes in the [src](src) directory and several external `Julia` packages. To load the required packages and any custom codes the teaching team has developed to work with these packages, we [include](https://docs.julialang.org/en/v1/manual/code-loading/) the `Include.jl` file):"
   ]
  },
  {
   "cell_type": "code",
   "execution_count": 3,
   "id": "29a14b27-aefb-4565-9e2e-b73f2b7e95b4",
   "metadata": {},
   "outputs": [
    {
     "name": "stderr",
     "output_type": "stream",
     "text": [
      "\u001b[32m\u001b[1m  Activating\u001b[22m\u001b[39m project at `~/Desktop/julia_work/LP-Metabolic-Flux-Paths `\n",
      "\u001b[32m\u001b[1m  No Changes\u001b[22m\u001b[39m to `~/Desktop/julia_work/LP-Metabolic-Flux-Paths /Project.toml`\n",
      "\u001b[32m\u001b[1m  No Changes\u001b[22m\u001b[39m to `~/Desktop/julia_work/LP-Metabolic-Flux-Paths /Manifest.toml`\n",
      "\u001b[32m\u001b[1m    Updating\u001b[22m\u001b[39m registry at `~/.julia/registries/General.toml`\n",
      "\u001b[32m\u001b[1m  No Changes\u001b[22m\u001b[39m to `~/Desktop/julia_work/LP-Metabolic-Flux-Paths /Project.toml`\n",
      "\u001b[32m\u001b[1m  No Changes\u001b[22m\u001b[39m to `~/Desktop/julia_work/LP-Metabolic-Flux-Paths /Manifest.toml`\n"
     ]
    }
   ],
   "source": [
    "include(\"Include.jl\");"
   ]
  },
  {
   "cell_type": "markdown",
   "id": "86ac33e3-eb99-40a9-9d72-c2308af1101c",
   "metadata": {
    "jp-MarkdownHeadingCollapsed": true
   },
   "source": [
    "## Prerequisites\n",
    "Before we compute the shortest path, let's load the metabolic network and create an instance of the `MyStoichiometricMatrixModel`, which holds data about the reaction network defined in [Types.jl](src/Types.jl). We construct a `MyStoichiometricMatrixModel` instance using a `build` method defined in [Factory.jl](src/Factory.jl). First, let's set the path to the `network` file, and save it in the `path_to_model_file`:"
   ]
  },
  {
   "cell_type": "code",
   "execution_count": 5,
   "id": "c1de31c6-ef95-4c20-b841-387fd54e48cd",
   "metadata": {},
   "outputs": [],
   "source": [
    "path_to_model_file = joinpath(_PATH_TO_DATA, \"Network-1.net\");"
   ]
  },
  {
   "cell_type": "markdown",
   "id": "627c9a50-ca05-4e0d-bf4d-faf690c9f0e6",
   "metadata": {},
   "source": [
    "Next, let's read the `network` file using the `readreactionfile(...)` method, which is encoded in [Files.jl](src/Files.jl). This method takes the path to the `network` file and the `expand::Bool` flag, which tells the parser whether or not to split reversible reactions into separate forward and reverse rates. \n",
    "* The `readreactionfile(...)` method returns a `Dict{Int64, MyChemicalReactionModel}` where the `key` is the reaction index, and the `value` is a `MyChemicalReactionModel` model holding the data for a reaction.\n",
    "* We pass the `edges` dictionary to a `build(...)` method which returns an instance of `MyStoichiometricMatrixModel` which we store in the `model` variable."
   ]
  },
  {
   "cell_type": "code",
   "execution_count": 52,
   "id": "9ec91e17-d96c-48ed-9057-60e38fe3a78a",
   "metadata": {},
   "outputs": [],
   "source": [
    "model = readreactionfile(path_to_model_file, expand=true) |> edges-> build(MyStoichiometricMatrixModel, edges);"
   ]
  },
  {
   "cell_type": "markdown",
   "id": "ad854aa6-ce47-4bc3-801e-02a5c6dd7857",
   "metadata": {},
   "source": [
    "## Compute the minimum cost path through the network\n",
    "Let's assume each reaction (edge) in the network has a cost of `1`. Then, to compute the minimum cost path that connects a `source` metabolite to a `target` metabolite, we solve a linear programming problem. Let $\\mathcal{O}(\\mathbf{x})$ denote a linear function of the continuous non-negative decision variables $\\mathbf{v}\\in\\mathbb{R}^{m}$, i.e., the flux through the edges in the network, whose values are constrained by a system of linear equations and bounded. \n",
    "Then, the optimal lowest cost path $\\mathbf{v}^{\\star}$ is a solution of the linear program:\n",
    "\\begin{eqnarray*}\n",
    "\\text{minimize}~\\mathcal{O}(\\mathbf{x}) &=& \\sum_{i=1}^{m} c_{i}\\cdot{v}_{i}\\\\\n",
    "\\text{subject to}~\\mathbf{S}\\cdot\\mathbf{v} & = &\\mathbf{0}\\\\\n",
    "\\text{and}~L_{i}&\\leq{v_{i}}&\\leq{U_{i}}\\qquad{i=1,2,\\dots,m}\n",
    "\\end{eqnarray*}\n",
    "The constants $c_{i} = 1$ are coefficients in the objective function, $\\mathbf{S}\\in\\mathbb{R}^{n\\times{m}}$ is the stoichiometric matrix,\n",
    "and $\\mathbf{S}\\cdot\\mathbf{v} = \\mathbf{0}$ occurs because the reaction system is constrained to be at a steady state inside the logical or physical control volume. The lower ($L_{i}$) and upper ($U_{i}$) bound for each reaction is what we can use to specify the `source` and `target` metabolites.\n",
    "* To specify `source` and `target` metabolites, we specify the permissible values for the `exchange` reactions in the bounds, e.g., `E1`, `E2`, and `E3` in the schematic above. For example, bounding $0\\leq\\text{E2}\\leq{0}$ says that metabolite `3` __cannot__ act as a `source` or `target`. On the other hand, setting $1\\leq\\text{E3}\\leq{\\infty}$ says that metabolite `8` is a target. "
   ]
  },
  {
   "cell_type": "code",
   "execution_count": 66,
   "id": "c956bf12-7a68-47da-a104-f6841d20e4c2",
   "metadata": {},
   "outputs": [],
   "source": [
    "findfirst(name -> name == \"RE3\", model.reactions) |> i -> model.bounds[i,1] = 1; # E3 is written as [] -> 8, so we need to constrain the lower bound on reverse\n",
    "findfirst(name -> name == \"FE3\", model.reactions) |> i -> model.bounds[i,2] = 0; # E3 cannot be consumed, only produced"
   ]
  },
  {
   "cell_type": "markdown",
   "id": "6b368365-3d8b-4045-b5c1-336a771201de",
   "metadata": {},
   "source": [
    "Next, we create and populate the `excludeset` variable. The `excludeset` holds the indexes of reactions that we want to `exclude` from a possible path. This requires the solver to try and find a path that meets the bounds, and the steady-state constraint, __wihtout__ using the reactions stored in the `excludeset`."
   ]
  },
  {
   "cell_type": "code",
   "execution_count": 10,
   "id": "6d71550d-28bf-4680-9e80-34f0da1b063b",
   "metadata": {},
   "outputs": [],
   "source": [
    "excludeset = Set{Int64}()\n",
    "findfirst(name -> name == \"R4\", model.reactions) |> i-> push!(excludeset,i);"
   ]
  },
  {
   "cell_type": "markdown",
   "id": "bb4ba5cf-5fbf-4df7-9e0e-ab3ead1643b5",
   "metadata": {},
   "source": [
    "Finally, we pass the `MyStoichiometricMatrixModel` instance and the `excludeset` to the `solve(...)` method encoded in [Solve.jl](src/Solve.jl). This method reformulates the data in the `model` instance into the format required by the [GLPK.jl](https://github.com/jump-dev/GLPK.jl) linear programming solver solves the optimization problem. \n",
    "* If the problem is not feasible, e.g., we are asking the network to produce a metabolite that can't be produced given the bounds and constraints, then an error is thrown. Otherwise, a solution dictionary is returned. This dictionary has two fields, the `argmin` field is the flux vector, i.e., the min cost $\\mathbf{v}$, and the `objective_value` field holds the cost of the solution, i.e., the number of reactions used to produce a `target` molecule. "
   ]
  },
  {
   "cell_type": "code",
   "execution_count": 11,
   "id": "ee22359e-b0cf-487d-bcec-8c4a2dd5df8e",
   "metadata": {},
   "outputs": [],
   "source": [
    "soln = solve(model, exclude = excludeset);"
   ]
  },
  {
   "cell_type": "code",
   "execution_count": 12,
   "id": "698ff94f-7b70-4e59-aba2-6a084903d4e6",
   "metadata": {},
   "outputs": [
    {
     "data": {
      "text/plain": [
       "18×2 Matrix{Any}:\n",
       " \"FE1\"  0.0\n",
       " \"RE1\"  0.0\n",
       " \"FE2\"  1.0\n",
       " \"RE2\"  0.0\n",
       " \"FE3\"  0.0\n",
       " \"RE3\"  1.0\n",
       " \"R1\"   0.0\n",
       " \"R2\"   0.0\n",
       " \"R3\"   1.0\n",
       " \"R4\"   0.0\n",
       " \"FR5\"  1.0\n",
       " \"RR5\"  0.0\n",
       " \"FR6\"  1.0\n",
       " \"RR6\"  0.0\n",
       " \"FR7\"  1.0\n",
       " \"RR7\"  0.0\n",
       " \"FR8\"  1.0\n",
       " \"RR8\"  0.0"
      ]
     },
     "execution_count": 12,
     "metadata": {},
     "output_type": "execute_result"
    }
   ],
   "source": [
    "[model.reactions soln[\"argmin\"]]"
   ]
  },
  {
   "cell_type": "code",
   "execution_count": null,
   "id": "573a91b6-f039-4559-9a19-6184916b84f1",
   "metadata": {},
   "outputs": [],
   "source": []
  }
 ],
 "metadata": {
  "kernelspec": {
   "display_name": "Julia 1.10.3",
   "language": "julia",
   "name": "julia-1.10"
  },
  "language_info": {
   "file_extension": ".jl",
   "mimetype": "application/julia",
   "name": "julia",
   "version": "1.10.3"
  }
 },
 "nbformat": 4,
 "nbformat_minor": 5
}
